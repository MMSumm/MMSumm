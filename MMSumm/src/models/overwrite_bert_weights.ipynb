{
 "cells": [
  {
   "cell_type": "code",
   "execution_count": 3,
   "id": "c383cb50-1714-405c-9673-6ec696129f19",
   "metadata": {},
   "outputs": [],
   "source": [
    "import torch\n",
    "import os"
   ]
  },
  {
   "cell_type": "code",
   "execution_count": 5,
   "id": "fa1b6eb6-090c-4ac8-9596-e8e905360ac4",
   "metadata": {},
   "outputs": [],
   "source": [
    "\n",
    "os.chdir('/home2/akshat.gahoi/lol/PreSumm/src')"
   ]
  },
  {
   "cell_type": "code",
   "execution_count": 6,
   "id": "793135c3-f14a-4d87-917f-e5c30c3a8593",
   "metadata": {},
   "outputs": [],
   "source": [
    "pt_file = torch.load('/home2/akshat.gahoi/model_step_148000.pt')"
   ]
  },
  {
   "cell_type": "code",
   "execution_count": null,
   "id": "07cb0469-77d6-4e00-afa4-71e1fb9c227a",
   "metadata": {},
   "outputs": [],
   "source": []
  },
  {
   "cell_type": "code",
   "execution_count": 7,
   "id": "abe519c9-bb86-4b1d-839f-22004b0d4ed9",
   "metadata": {},
   "outputs": [],
   "source": [
    "from pytorch_transformers import BertModel, BertConfig"
   ]
  },
  {
   "cell_type": "code",
   "execution_count": 8,
   "id": "ebe02527-f853-4093-a8db-561e3f4beaca",
   "metadata": {},
   "outputs": [],
   "source": [
    "config = BertConfig()\n",
    "model = BertModel(config)"
   ]
  },
  {
   "cell_type": "code",
   "execution_count": 14,
   "id": "dce4c9ea-ed00-4434-a96e-28579ff1c225",
   "metadata": {},
   "outputs": [
    {
     "name": "stdout",
     "output_type": "stream",
     "text": [
      "('embeddings.word_embeddings.weight', Parameter containing:\n",
      "tensor([[-0.0102, -0.0615, -0.0265,  ..., -0.0199, -0.0372, -0.0098],\n",
      "        [-0.0117, -0.0600, -0.0323,  ..., -0.0168, -0.0401, -0.0107],\n",
      "        [-0.0198, -0.0627, -0.0326,  ..., -0.0165, -0.0420, -0.0032],\n",
      "        ...,\n",
      "        [-0.0218, -0.0556, -0.0135,  ..., -0.0043, -0.0151, -0.0249],\n",
      "        [-0.0462, -0.0565, -0.0019,  ...,  0.0157, -0.0139, -0.0095],\n",
      "        [ 0.0015, -0.0821, -0.0160,  ..., -0.0081, -0.0475,  0.0753]],\n",
      "       requires_grad=True))\n"
     ]
    }
   ],
   "source": [
    "for i in model.named_parameters():\n",
    "    print(i)\n",
    "    break"
   ]
  },
  {
   "cell_type": "code",
   "execution_count": 10,
   "id": "91771d74-87c8-4951-b0e8-90e461cfb00f",
   "metadata": {},
   "outputs": [
    {
     "data": {
      "text/plain": [
       "dict_keys(['model', 'opt', 'optims'])"
      ]
     },
     "execution_count": 10,
     "metadata": {},
     "output_type": "execute_result"
    }
   ],
   "source": [
    "pt_file.keys()"
   ]
  },
  {
   "cell_type": "code",
   "execution_count": 11,
   "id": "020d1bac-d211-409b-9c4e-c875a8d952b5",
   "metadata": {},
   "outputs": [
    {
     "data": {
      "text/plain": [
       "tensor([[-0.0102, -0.0615, -0.0265,  ..., -0.0199, -0.0372, -0.0098],\n",
       "        [-0.0117, -0.0600, -0.0323,  ..., -0.0168, -0.0401, -0.0107],\n",
       "        [-0.0198, -0.0627, -0.0326,  ..., -0.0165, -0.0420, -0.0032],\n",
       "        ...,\n",
       "        [-0.0218, -0.0556, -0.0135,  ..., -0.0043, -0.0151, -0.0249],\n",
       "        [-0.0462, -0.0565, -0.0019,  ...,  0.0157, -0.0139, -0.0095],\n",
       "        [ 0.0015, -0.0821, -0.0160,  ..., -0.0081, -0.0475,  0.0753]],\n",
       "       device='cuda:0')"
      ]
     },
     "execution_count": 11,
     "metadata": {},
     "output_type": "execute_result"
    }
   ],
   "source": [
    "pt_file['model']['bert.model.embeddings.word_embeddings.weight']"
   ]
  },
  {
   "cell_type": "code",
   "execution_count": 12,
   "id": "ef9f7c17-2582-4f43-a86e-ba93156b7291",
   "metadata": {},
   "outputs": [],
   "source": [
    "target = dict(model.named_parameters())\n",
    "source = dict(pt_file['model'])"
   ]
  },
  {
   "cell_type": "code",
   "execution_count": 13,
   "id": "5ad8f3eb-6bed-428b-8c4d-a2e8b7053643",
   "metadata": {},
   "outputs": [],
   "source": [
    "for k in source:\n",
    "    if k.startswith('bert'):\n",
    "        tg_key = k[11:]\n",
    "        target[tg_key].data.copy_(source[k].data)"
   ]
  },
  {
   "cell_type": "code",
   "execution_count": null,
   "id": "65aed3d7-6817-4192-9beb-9db69d432638",
   "metadata": {},
   "outputs": [],
   "source": [
    "model.save_pretrained('/home2/akshat.gahoi/src/')"
   ]
  },
  {
   "cell_type": "code",
   "execution_count": null,
   "id": "ef2b464c-b4f2-4f20-8126-d63e8a5d5a9b",
   "metadata": {},
   "outputs": [],
   "source": [
    "\n",
    "model['bert.model.embeddings.word_embeddings.weight']"
   ]
  },
  {
   "cell_type": "code",
   "execution_count": null,
   "id": "053cd686-5ebf-4a07-a2b6-9c7727f6196a",
   "metadata": {},
   "outputs": [],
   "source": [
    "from transformers import BertForSequenceClassification, BertConfig\n",
    "jetfire = BertForSequenceClassification.from_pretrained('bert-base-cased')\n",
    "config = BertConfig.from_pretrained('bert-base-cased')\n",
    "\n",
    "optimus = BertForSequenceClassification(config)\n",
    "\n",
    "parts = ['bert.embeddings.word_embeddings.weight'\n",
    ",'bert.embeddings.position_embeddings.weight'              \n",
    ",'bert.embeddings.token_type_embeddings.weight'    \n",
    ",'bert.embeddings.LayerNorm.weight'\n",
    ",'bert.embeddings.LayerNorm.bias']\n",
    "\n",
    "def joltElectrify (jetfire, optimus, parts):\n",
    "  target = dict(optimus.named_parameters())\n",
    "  source = dict(jetfire.named_parameters())\n",
    "\n",
    "  for part in parts:\n",
    "    target[part].data.copy_(source[part].data)  \n",
    "\n",
    "joltElectrify(jetfire, optimus, parts)"
   ]
  }
 ],
 "metadata": {
  "kernelspec": {
   "display_name": "Python 3 (ipykernel)",
   "language": "python",
   "name": "python3"
  },
  "language_info": {
   "codemirror_mode": {
    "name": "ipython",
    "version": 3
   },
   "file_extension": ".py",
   "mimetype": "text/x-python",
   "name": "python",
   "nbconvert_exporter": "python",
   "pygments_lexer": "ipython3",
   "version": "3.7.0"
  }
 },
 "nbformat": 4,
 "nbformat_minor": 5
}
