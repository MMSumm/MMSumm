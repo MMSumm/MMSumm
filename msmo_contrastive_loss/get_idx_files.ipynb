{
 "cells": [
  {
   "cell_type": "code",
   "execution_count": 1,
   "id": "004e5386-319d-4b22-ab49-61f0f990a181",
   "metadata": {},
   "outputs": [],
   "source": [
    "from oscar.utils.tsv_file import TSVFile"
   ]
  },
  {
   "cell_type": "code",
   "execution_count": 3,
   "id": "96230c92-c623-4df1-8d26-6378075ce03a",
   "metadata": {},
   "outputs": [],
   "source": [
    "labels = TSVFile('/scratch/summ_data_imgs_test/labels.tsv', generate_lineidx=True)"
   ]
  },
  {
   "cell_type": "code",
   "execution_count": 2,
   "id": "db40445d-be08-42e1-b4cb-5617f59db5d6",
   "metadata": {},
   "outputs": [],
   "source": [
    "vgg_features = TSVFile('/scratch/summ_data_imgs_test/vgg_features.tsv', generate_lineidx=True)"
   ]
  },
  {
   "cell_type": "code",
   "execution_count": 4,
   "id": "0266cf0e-48c2-4c27-918b-5cc4dc7f50ed",
   "metadata": {},
   "outputs": [],
   "source": [
    "features = TSVFile('/scratch/summ_data_imgs_test/features.tsv', generate_lineidx=True)"
   ]
  },
  {
   "cell_type": "code",
   "execution_count": null,
   "id": "2a27fc03-88e1-4c24-ac29-afea1d9a58af",
   "metadata": {},
   "outputs": [],
   "source": []
  }
 ],
 "metadata": {
  "kernelspec": {
   "display_name": "Python 3 (ipykernel)",
   "language": "python",
   "name": "python3"
  },
  "language_info": {
   "codemirror_mode": {
    "name": "ipython",
    "version": 3
   },
   "file_extension": ".py",
   "mimetype": "text/x-python",
   "name": "python",
   "nbconvert_exporter": "python",
   "pygments_lexer": "ipython3",
   "version": "3.7.10"
  }
 },
 "nbformat": 4,
 "nbformat_minor": 5
}
